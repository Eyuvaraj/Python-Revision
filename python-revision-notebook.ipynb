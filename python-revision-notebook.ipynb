{
 "cells": [
  {
   "cell_type": "markdown",
   "metadata": {},
   "source": [
    "# Basics\n"
   ]
  },
  {
   "cell_type": "code",
   "execution_count": 7,
   "metadata": {},
   "outputs": [
    {
     "name": "stdout",
     "output_type": "stream",
     "text": [
      "Hi 🙋‍♂️\n"
     ]
    }
   ],
   "source": [
    "print(\"Hi 🙋‍♂️\")"
   ]
  },
  {
   "cell_type": "markdown",
   "metadata": {},
   "source": [
    "### Data types\n"
   ]
  },
  {
   "cell_type": "code",
   "execution_count": 12,
   "metadata": {},
   "outputs": [
    {
     "name": "stdout",
     "output_type": "stream",
     "text": [
      "10\n",
      "a: <class 'int'> , b: <class 'str'>  , c: <class 'float'>  , d: <class 'bool'>\n"
     ]
    }
   ],
   "source": [
    "k = 5\n",
    "k += k\n",
    "print(k)\n",
    "\n",
    "a = 1\n",
    "b = \"eyuvaraj\"\n",
    "c = 3.14\n",
    "d = True\n",
    "\n",
    "print(\"a:\", type(a), \", b:\", type(b), \" , c:\", type(c), \" , d:\", type(d))"
   ]
  },
  {
   "cell_type": "markdown",
   "metadata": {},
   "source": [
    "### Arithmetic operators\n"
   ]
  },
  {
   "cell_type": "code",
   "execution_count": 22,
   "metadata": {},
   "outputs": [
    {
     "name": "stdout",
     "output_type": "stream",
     "text": [
      "+ operator: 24\n",
      "- operator: 0\n",
      "* operator: 144\n",
      "/ operator: 4.0\n",
      "// operator: 5\n",
      "% operator: 1\n",
      "** operator: 20\n"
     ]
    }
   ],
   "source": [
    "print(\"+ operator:\", 12 + 12)\n",
    "print(\"- operator:\", 12 - 12)\n",
    "print(\"* operator:\", 12 * 12)\n",
    "print(\"/ operator:\", 24 / 6)\n",
    "print(\"// operator:\", 26 // 5)\n",
    "print(\"% operator:\", 5 % 2)\n",
    "print(\"** operator:\", 10 * 2)"
   ]
  },
  {
   "cell_type": "markdown",
   "metadata": {},
   "source": [
    "### Relational and logical operators\n"
   ]
  },
  {
   "cell_type": "code",
   "execution_count": 34,
   "metadata": {},
   "outputs": [
    {
     "name": "stdout",
     "output_type": "stream",
     "text": [
      "True\n",
      "False\n",
      "True\n",
      "False\n",
      "True\n",
      "False\n",
      "True\n",
      "True\n"
     ]
    }
   ],
   "source": [
    "print(5 > 4)\n",
    "print(4 > 5)\n",
    "print(5 >= 5)\n",
    "print(6 <= 5)\n",
    "print(\"aeiou\" == \"aeiou\")\n",
    "print(4 != 4)\n",
    "print(True and not False)\n",
    "print(True or False)"
   ]
  }
 ],
 "metadata": {
  "kernelspec": {
   "display_name": "Python 3",
   "language": "python",
   "name": "python3"
  },
  "language_info": {
   "codemirror_mode": {
    "name": "ipython",
    "version": 3
   },
   "file_extension": ".py",
   "mimetype": "text/x-python",
   "name": "python",
   "nbconvert_exporter": "python",
   "pygments_lexer": "ipython3",
   "version": "3.8.0"
  }
 },
 "nbformat": 4,
 "nbformat_minor": 2
}
