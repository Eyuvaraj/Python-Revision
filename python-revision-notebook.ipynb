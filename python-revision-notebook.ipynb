{
 "cells": [
  {
   "cell_type": "markdown",
   "metadata": {},
   "source": [
    "# Basics\n"
   ]
  },
  {
   "cell_type": "code",
   "execution_count": 7,
   "metadata": {},
   "outputs": [
    {
     "name": "stdout",
     "output_type": "stream",
     "text": [
      "Hi 🙋‍♂️\n"
     ]
    }
   ],
   "source": [
    "print(\"Hi 🙋‍♂️\")"
   ]
  },
  {
   "cell_type": "markdown",
   "metadata": {},
   "source": [
    "### Data types\n"
   ]
  },
  {
   "cell_type": "code",
   "execution_count": 12,
   "metadata": {},
   "outputs": [
    {
     "name": "stdout",
     "output_type": "stream",
     "text": [
      "10\n",
      "a: <class 'int'> , b: <class 'str'>  , c: <class 'float'>  , d: <class 'bool'>\n"
     ]
    }
   ],
   "source": [
    "k = 5\n",
    "k += k\n",
    "print(k)\n",
    "\n",
    "a = 1\n",
    "b = \"eyuvaraj\"\n",
    "c = 3.14\n",
    "d = True\n",
    "\n",
    "print(\"a:\", type(a), \", b:\", type(b), \" , c:\", type(c), \" , d:\", type(d))"
   ]
  },
  {
   "cell_type": "markdown",
   "metadata": {},
   "source": [
    "### Arithmetic operators\n"
   ]
  },
  {
   "cell_type": "code",
   "execution_count": 22,
   "metadata": {},
   "outputs": [
    {
     "name": "stdout",
     "output_type": "stream",
     "text": [
      "+ operator: 24\n",
      "- operator: 0\n",
      "* operator: 144\n",
      "/ operator: 4.0\n",
      "// operator: 5\n",
      "% operator: 1\n",
      "** operator: 20\n"
     ]
    }
   ],
   "source": [
    "print(\"+ operator:\", 12 + 12)\n",
    "print(\"- operator:\", 12 - 12)\n",
    "print(\"* operator:\", 12 * 12)\n",
    "print(\"/ operator:\", 24 / 6)\n",
    "print(\"// operator:\", 26 // 5)\n",
    "print(\"% operator:\", 5 % 2)\n",
    "print(\"** operator:\", 10 * 2)"
   ]
  },
  {
   "cell_type": "markdown",
   "metadata": {},
   "source": [
    "### Relational and logical operators\n"
   ]
  },
  {
   "cell_type": "code",
   "execution_count": 34,
   "metadata": {},
   "outputs": [
    {
     "name": "stdout",
     "output_type": "stream",
     "text": [
      "True\n",
      "False\n",
      "True\n",
      "False\n",
      "True\n",
      "False\n",
      "True\n",
      "True\n"
     ]
    }
   ],
   "source": [
    "print(5 > 4)\n",
    "print(4 > 5)\n",
    "print(5 >= 5)\n",
    "print(6 <= 5)\n",
    "print(\"aeiou\" == \"aeiou\")\n",
    "print(4 != 4)\n",
    "print(True and not False)\n",
    "print(True or False)"
   ]
  },
  {
   "cell_type": "markdown",
   "metadata": {},
   "source": [
    "### String methods\n"
   ]
  },
  {
   "cell_type": "code",
   "execution_count": 52,
   "metadata": {},
   "outputs": [
    {
     "data": {
      "text/plain": [
       "10"
      ]
     },
     "execution_count": 52,
     "metadata": {},
     "output_type": "execute_result"
    }
   ],
   "source": [
    "a = \"this is a string {is_it}\"\n",
    "\n",
    "a.count(\"i\")\n",
    "a.find(\"r\")\n",
    "a.split(\" \")\n",
    "a.strip(\"r\")\n",
    "a.format(is_it=\"right\")\n",
    "a.index(\"a\")"
   ]
  },
  {
   "cell_type": "markdown",
   "metadata": {},
   "source": [
    "### Lists\n"
   ]
  },
  {
   "cell_type": "code",
   "execution_count": 77,
   "metadata": {},
   "outputs": [
    {
     "data": {
      "text/plain": [
       "[4, 5]"
      ]
     },
     "execution_count": 77,
     "metadata": {},
     "output_type": "execute_result"
    }
   ],
   "source": [
    "numbers = [1, 2, 3, 4, 5, 6]\n",
    "\n",
    "numbers[4]\n",
    "5 in numbers\n",
    "6 not in numbers\n",
    "numbers[-1]\n",
    "numbers[3:5]"
   ]
  },
  {
   "cell_type": "markdown",
   "metadata": {},
   "source": [
    "### List methods\n"
   ]
  },
  {
   "cell_type": "code",
   "execution_count": 78,
   "metadata": {},
   "outputs": [],
   "source": [
    "numbers.append(7)\n",
    "numbers.count(3)\n",
    "len(numbers)\n",
    "numbers.pop(3)\n",
    "numbers.insert(4, 5)\n",
    "numbers.reverse()\n",
    "numbers.sort()\n",
    "numbers.remove(2)\n",
    "max(numbers)\n",
    "sum(numbers)\n",
    "numbers.extend(numbers)"
   ]
  },
  {
   "cell_type": "markdown",
   "metadata": {},
   "source": [
    "## Conditional statements\n"
   ]
  },
  {
   "cell_type": "code",
   "execution_count": 81,
   "metadata": {},
   "outputs": [
    {
     "name": "stdout",
     "output_type": "stream",
     "text": [
      "good bye\n"
     ]
    }
   ],
   "source": [
    "if False:\n",
    "    print(\"hello\")\n",
    "elif True:\n",
    "    print(\"good bye\")\n",
    "else:\n",
    "    print(\"how are yu?\")"
   ]
  },
  {
   "cell_type": "markdown",
   "metadata": {},
   "source": [
    "## Loops\n"
   ]
  },
  {
   "cell_type": "code",
   "execution_count": 100,
   "metadata": {},
   "outputs": [
    {
     "name": "stdout",
     "output_type": "stream",
     "text": [
      "s\n",
      "t\n",
      "r\n",
      "i\n",
      "n\n",
      "g\n",
      "[0, 0, 0, 0, 0, 0, 0, 0, 0, 0]\n",
      "10\n"
     ]
    }
   ],
   "source": [
    "x = [i for i in range(10)]\n",
    "\n",
    "for i in range(10):\n",
    "    x[i] -= i\n",
    "\n",
    "s = \"string\"\n",
    "for i in s:\n",
    "    print(i)\n",
    "\n",
    "print(x)\n",
    "\n",
    "sum = 0\n",
    "while sum <= 10:\n",
    "    sum += 1\n",
    "    if sum == 10:\n",
    "        break\n",
    "    else:\n",
    "        continue\n",
    "\n",
    "print(sum)"
   ]
  },
  {
   "cell_type": "markdown",
   "metadata": {},
   "source": [
    "### get input from user\n"
   ]
  },
  {
   "cell_type": "code",
   "execution_count": 101,
   "metadata": {},
   "outputs": [],
   "source": [
    "n = int(input(\"enter number of letters: \"))\n",
    "\n",
    "k = []\n",
    "for i in range(n):\n",
    "    k.append(str(input(\"enter letters: \")))"
   ]
  },
  {
   "cell_type": "code",
   "execution_count": 103,
   "metadata": {},
   "outputs": [
    {
     "data": {
      "text/plain": [
       "[3, 4, 6, 8, 9]"
      ]
     },
     "execution_count": 103,
     "metadata": {},
     "output_type": "execute_result"
    }
   ],
   "source": [
    "l = list(map(int, input().split(\",\")))\n",
    "l"
   ]
  },
  {
   "cell_type": "markdown",
   "metadata": {},
   "source": [
    "### Importing and using library\n"
   ]
  },
  {
   "cell_type": "code",
   "execution_count": 326,
   "metadata": {},
   "outputs": [
    {
     "name": "stdout",
     "output_type": "stream",
     "text": [
      "15\n",
      "[14, 11, 26, 12, 17, 28, 7, 31, 9, 28, 19, 3, 20, 22, 6]\n",
      "you lose\n"
     ]
    }
   ],
   "source": [
    "import random as r\n",
    "\n",
    "k = r.randint(1, 31)\n",
    "print(k)\n",
    "\n",
    "l = []\n",
    "for i in range(k):\n",
    "    l.append(r.randrange(1, 32))\n",
    "print(l)\n",
    "\n",
    "k = r.choice(\"HT\")\n",
    "if k == \"T\":\n",
    "    print(\"you won\")\n",
    "else:\n",
    "    print(\"you lose\")"
   ]
  },
  {
   "cell_type": "markdown",
   "metadata": {},
   "source": [
    "### Functions\n"
   ]
  },
  {
   "cell_type": "code",
   "execution_count": 329,
   "metadata": {},
   "outputs": [
    {
     "name": "stdout",
     "output_type": "stream",
     "text": [
      "area:  78.5 \n",
      "perimeter: 31.400000000000002\n"
     ]
    }
   ],
   "source": [
    "def circle(k):\n",
    "    area = 3.14 * k**2\n",
    "    perimeter = 2 * 3.14 * k\n",
    "    return area, perimeter\n",
    "\n",
    "\n",
    "a, p = circle(5)\n",
    "print(\"area: \", a, \"\\nperimeter:\", p)"
   ]
  },
  {
   "cell_type": "markdown",
   "metadata": {},
   "source": [
    "#### Recursion\n"
   ]
  },
  {
   "cell_type": "code",
   "execution_count": null,
   "metadata": {},
   "outputs": [],
   "source": [
    "count = 0\n",
    "\n",
    "\n",
    "def fibonnaci(k):\n",
    "    global count\n",
    "    count += 1\n",
    "    if k == 1 or k == 2:\n",
    "        return 1\n",
    "    elif k == 0:\n",
    "        return 0\n",
    "    else:\n",
    "        x = fibonnaci(n - 1) + fibonnaci(n - 2)\n",
    "        print(x)\n",
    "        return fibonnaci(n - 1) + fibonnaci(n - 2)\n",
    "\n",
    "\n",
    "print(fibonnaci(10))\n",
    "print(count)"
   ]
  }
 ],
 "metadata": {
  "kernelspec": {
   "display_name": "Python 3",
   "language": "python",
   "name": "python3"
  },
  "language_info": {
   "codemirror_mode": {
    "name": "ipython",
    "version": 3
   },
   "file_extension": ".py",
   "mimetype": "text/x-python",
   "name": "python",
   "nbconvert_exporter": "python",
   "pygments_lexer": "ipython3",
   "version": "3.8.0"
  }
 },
 "nbformat": 4,
 "nbformat_minor": 2
}
